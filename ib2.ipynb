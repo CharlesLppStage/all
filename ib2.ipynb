{
 "cells": [
  {
   "cell_type": "code",
   "execution_count": 1,
   "id": "5989f4e2-7e33-42d9-9fa5-d4f976dc1556",
   "metadata": {
    "execution": {
     "iopub.execute_input": "2025-06-10T08:46:23.420373Z",
     "iopub.status.busy": "2025-06-10T08:46:23.420257Z",
     "iopub.status.idle": "2025-06-10T08:46:24.082208Z",
     "shell.execute_reply": "2025-06-10T08:46:24.081698Z",
     "shell.execute_reply.started": "2025-06-10T08:46:23.420361Z"
    }
   },
   "outputs": [],
   "source": [
    "root_path = \"/home/katanovic/fluid_kinetic_class/\"\n",
    "phare_path = \"/home/katanovic/PHARE/\"\n",
    "\n",
    "import os\n",
    "import sys\n",
    "\n",
    "phare_root = os.path.expanduser(phare_path)\n",
    "sys.path.append(os.path.join(phare_path, \"pyphare\"))\n",
    "sys.path.append(os.path.join(root_path, \"2024\"))\n",
    "\n",
    "import matplotlib.pyplot as plt\n",
    "import numpy as np\n",
    "import scipy as sc\n",
    "from numpy import polyfit\n",
    "from pyphare.pharesee.hierarchy import fromh5  # was get_times_from_h5\n",
    "from pyphare.pharesee.run import Run\n",
    "from scipy.ndimage import gaussian_filter1d as gf\n",
    "from scipy.optimize import curve_fit\n",
    "from scipy.signal import find_peaks\n",
    "from scripts import dist_plot\n",
    "\n",
    "sys.path.append(\"/home/katanovic/fluid_kinetic_class/2024/nb\")\n",
    "from get_get import *\n",
    "\n",
    "%matplotlib widget\n",
    "\n",
    "root_path = \"/home/katanovic/fluid_kinetic_class/2024/run/beam/\""
   ]
  },
  {
   "cell_type": "code",
   "execution_count": 2,
   "id": "e8eabf05-6b1e-45d0-b3c4-dce1a5e92b0a",
   "metadata": {
    "execution": {
     "iopub.execute_input": "2025-06-10T08:46:24.083119Z",
     "iopub.status.busy": "2025-06-10T08:46:24.082846Z",
     "iopub.status.idle": "2025-06-10T08:46:24.085863Z",
     "shell.execute_reply": "2025-06-10T08:46:24.085312Z",
     "shell.execute_reply.started": "2025-06-10T08:46:24.083105Z"
    }
   },
   "outputs": [],
   "source": [
    "path = root_path + \"ib1\"\n",
    "r = Run(path)"
   ]
  },
  {
   "cell_type": "code",
   "execution_count": 3,
   "id": "d6ab5f0a-083e-4901-94ed-6ad96b1736e4",
   "metadata": {
    "execution": {
     "iopub.execute_input": "2025-06-10T08:46:24.087342Z",
     "iopub.status.busy": "2025-06-10T08:46:24.087067Z",
     "iopub.status.idle": "2025-06-10T08:46:24.108096Z",
     "shell.execute_reply": "2025-06-10T08:46:24.107774Z",
     "shell.execute_reply.started": "2025-06-10T08:46:24.087328Z"
    }
   },
   "outputs": [],
   "source": [
    "def get_Te(r, t, sigma = 2):\n",
    "    a, b = r.GetTe(t, merged=True)\n",
    "    return a, b"
   ]
  },
  {
   "cell_type": "code",
   "execution_count": 4,
   "id": "f537bb7f-fac8-4f4a-beb6-0208160732f7",
   "metadata": {
    "execution": {
     "iopub.execute_input": "2025-06-10T08:46:24.108676Z",
     "iopub.status.busy": "2025-06-10T08:46:24.108557Z",
     "iopub.status.idle": "2025-06-10T08:46:24.124527Z",
     "shell.execute_reply": "2025-06-10T08:46:24.124211Z",
     "shell.execute_reply.started": "2025-06-10T08:46:24.108664Z"
    }
   },
   "outputs": [],
   "source": [
    "time = 0"
   ]
  },
  {
   "cell_type": "code",
   "execution_count": 5,
   "id": "60eaee0d-9f11-48b0-af47-194a3d3bd8b4",
   "metadata": {
    "execution": {
     "iopub.execute_input": "2025-06-10T08:46:24.125079Z",
     "iopub.status.busy": "2025-06-10T08:46:24.124957Z",
     "iopub.status.idle": "2025-06-10T08:46:24.714354Z",
     "shell.execute_reply": "2025-06-10T08:46:24.713747Z",
     "shell.execute_reply.started": "2025-06-10T08:46:24.125067Z"
    }
   },
   "outputs": [
    {
     "name": "stdout",
     "output_type": "stream",
     "text": [
      "['__bool__', '__class__', '__delattr__', '__dir__', '__doc__', '__eq__', '__format__', '__ge__', '__getattribute__', '__gt__', '__hash__', '__init__', '__init_subclass__', '__le__', '__lt__', '__ne__', '__new__', '__reduce__', '__reduce_ex__', '__repr__', '__setattr__', '__sizeof__', '__str__', '__subclasshook__']\n"
     ]
    },
    {
     "ename": "RuntimeError",
     "evalue": "Failed to deserialize simulation from data file : No module named 'numpy._core'",
     "output_type": "error",
     "traceback": [
      "\u001b[0;31m---------------------------------------------------------------------------\u001b[0m",
      "\u001b[0;31mModuleNotFoundError\u001b[0m                       Traceback (most recent call last)",
      "File \u001b[0;32m~/PHARE/pyphare/pyphare/pharesee/hierarchy/hierarchy.py:131\u001b[0m, in \u001b[0;36mPatchHierarchy.sim\u001b[0;34m(self)\u001b[0m\n\u001b[1;32m    130\u001b[0m \u001b[38;5;28;01mtry\u001b[39;00m:\n\u001b[0;32m--> 131\u001b[0m     \u001b[38;5;28mself\u001b[39m\u001b[38;5;241m.\u001b[39m_sim \u001b[38;5;241m=\u001b[39m \u001b[43mdeserialize\u001b[49m\u001b[43m(\u001b[49m\n\u001b[1;32m    132\u001b[0m \u001b[43m        \u001b[49m\u001b[43mfirst_file\u001b[49m\u001b[43m[\u001b[49m\u001b[38;5;124;43m\"\u001b[39;49m\u001b[38;5;124;43mpy_attrs\u001b[39;49m\u001b[38;5;124;43m\"\u001b[39;49m\u001b[43m]\u001b[49m\u001b[38;5;241;43m.\u001b[39;49m\u001b[43mattrs\u001b[49m\u001b[43m[\u001b[49m\u001b[38;5;124;43m\"\u001b[39;49m\u001b[38;5;124;43mserialized_simulation\u001b[39;49m\u001b[38;5;124;43m\"\u001b[39;49m\u001b[43m]\u001b[49m\n\u001b[1;32m    133\u001b[0m \u001b[43m    \u001b[49m\u001b[43m)\u001b[49m\n\u001b[1;32m    134\u001b[0m \u001b[38;5;28;01mexcept\u001b[39;00m \u001b[38;5;167;01mException\u001b[39;00m \u001b[38;5;28;01mas\u001b[39;00m e:\n",
      "File \u001b[0;32m~/PHARE/pyphare/pyphare/pharein/simulation.py:1102\u001b[0m, in \u001b[0;36mdeserialize\u001b[0;34m(hex)\u001b[0m\n\u001b[1;32m   1100\u001b[0m \u001b[38;5;28;01mimport\u001b[39;00m\u001b[38;5;250m \u001b[39m\u001b[38;5;21;01mdill\u001b[39;00m\u001b[38;5;241m,\u001b[39m\u001b[38;5;250m \u001b[39m\u001b[38;5;21;01mcodecs\u001b[39;00m\n\u001b[0;32m-> 1102\u001b[0m \u001b[38;5;28;01mreturn\u001b[39;00m re_numpify_simulation(\u001b[43mdill\u001b[49m\u001b[38;5;241;43m.\u001b[39;49m\u001b[43mloads\u001b[49m\u001b[43m(\u001b[49m\u001b[43mcodecs\u001b[49m\u001b[38;5;241;43m.\u001b[39;49m\u001b[43mdecode\u001b[49m\u001b[43m(\u001b[49m\u001b[38;5;28;43mhex\u001b[39;49m\u001b[43m,\u001b[49m\u001b[43m \u001b[49m\u001b[38;5;124;43m\"\u001b[39;49m\u001b[38;5;124;43mhex\u001b[39;49m\u001b[38;5;124;43m\"\u001b[39;49m\u001b[43m)\u001b[49m\u001b[43m)\u001b[49m)\n",
      "File \u001b[0;32m/opt/conda/envs/hpc/lib/python3.10/site-packages/dill/_dill.py:311\u001b[0m, in \u001b[0;36mloads\u001b[0;34m(str, ignore, **kwds)\u001b[0m\n\u001b[1;32m    310\u001b[0m file \u001b[38;5;241m=\u001b[39m StringIO(\u001b[38;5;28mstr\u001b[39m)\n\u001b[0;32m--> 311\u001b[0m \u001b[38;5;28;01mreturn\u001b[39;00m \u001b[43mload\u001b[49m\u001b[43m(\u001b[49m\u001b[43mfile\u001b[49m\u001b[43m,\u001b[49m\u001b[43m \u001b[49m\u001b[43mignore\u001b[49m\u001b[43m,\u001b[49m\u001b[43m \u001b[49m\u001b[38;5;241;43m*\u001b[39;49m\u001b[38;5;241;43m*\u001b[39;49m\u001b[43mkwds\u001b[49m\u001b[43m)\u001b[49m\n",
      "File \u001b[0;32m/opt/conda/envs/hpc/lib/python3.10/site-packages/dill/_dill.py:297\u001b[0m, in \u001b[0;36mload\u001b[0;34m(file, ignore, **kwds)\u001b[0m\n\u001b[1;32m    292\u001b[0m \u001b[38;5;250m\u001b[39m\u001b[38;5;124;03m\"\"\"\u001b[39;00m\n\u001b[1;32m    293\u001b[0m \u001b[38;5;124;03mUnpickle an object from a file.\u001b[39;00m\n\u001b[1;32m    294\u001b[0m \n\u001b[1;32m    295\u001b[0m \u001b[38;5;124;03mSee :func:`loads` for keyword arguments.\u001b[39;00m\n\u001b[1;32m    296\u001b[0m \u001b[38;5;124;03m\"\"\"\u001b[39;00m\n\u001b[0;32m--> 297\u001b[0m \u001b[38;5;28;01mreturn\u001b[39;00m \u001b[43mUnpickler\u001b[49m\u001b[43m(\u001b[49m\u001b[43mfile\u001b[49m\u001b[43m,\u001b[49m\u001b[43m \u001b[49m\u001b[43mignore\u001b[49m\u001b[38;5;241;43m=\u001b[39;49m\u001b[43mignore\u001b[49m\u001b[43m,\u001b[49m\u001b[43m \u001b[49m\u001b[38;5;241;43m*\u001b[39;49m\u001b[38;5;241;43m*\u001b[39;49m\u001b[43mkwds\u001b[49m\u001b[43m)\u001b[49m\u001b[38;5;241;43m.\u001b[39;49m\u001b[43mload\u001b[49m\u001b[43m(\u001b[49m\u001b[43m)\u001b[49m\n",
      "File \u001b[0;32m/opt/conda/envs/hpc/lib/python3.10/site-packages/dill/_dill.py:452\u001b[0m, in \u001b[0;36mUnpickler.load\u001b[0;34m(self)\u001b[0m\n\u001b[1;32m    451\u001b[0m \u001b[38;5;28;01mdef\u001b[39;00m\u001b[38;5;250m \u001b[39m\u001b[38;5;21mload\u001b[39m(\u001b[38;5;28mself\u001b[39m): \u001b[38;5;66;03m#NOTE: if settings change, need to update attributes\u001b[39;00m\n\u001b[0;32m--> 452\u001b[0m     obj \u001b[38;5;241m=\u001b[39m \u001b[43mStockUnpickler\u001b[49m\u001b[38;5;241;43m.\u001b[39;49m\u001b[43mload\u001b[49m\u001b[43m(\u001b[49m\u001b[38;5;28;43mself\u001b[39;49m\u001b[43m)\u001b[49m\n\u001b[1;32m    453\u001b[0m     \u001b[38;5;28;01mif\u001b[39;00m \u001b[38;5;28mtype\u001b[39m(obj)\u001b[38;5;241m.\u001b[39m\u001b[38;5;18m__module__\u001b[39m \u001b[38;5;241m==\u001b[39m \u001b[38;5;28mgetattr\u001b[39m(_main_module, \u001b[38;5;124m'\u001b[39m\u001b[38;5;124m__name__\u001b[39m\u001b[38;5;124m'\u001b[39m, \u001b[38;5;124m'\u001b[39m\u001b[38;5;124m__main__\u001b[39m\u001b[38;5;124m'\u001b[39m):\n",
      "File \u001b[0;32m/opt/conda/envs/hpc/lib/python3.10/site-packages/dill/_dill.py:442\u001b[0m, in \u001b[0;36mUnpickler.find_class\u001b[0;34m(self, module, name)\u001b[0m\n\u001b[1;32m    441\u001b[0m \u001b[38;5;28;01mif\u001b[39;00m module \u001b[38;5;241m==\u001b[39m \u001b[38;5;124m'\u001b[39m\u001b[38;5;124mdill.dill\u001b[39m\u001b[38;5;124m'\u001b[39m: module \u001b[38;5;241m=\u001b[39m \u001b[38;5;124m'\u001b[39m\u001b[38;5;124mdill._dill\u001b[39m\u001b[38;5;124m'\u001b[39m\n\u001b[0;32m--> 442\u001b[0m \u001b[38;5;28;01mreturn\u001b[39;00m \u001b[43mStockUnpickler\u001b[49m\u001b[38;5;241;43m.\u001b[39;49m\u001b[43mfind_class\u001b[49m\u001b[43m(\u001b[49m\u001b[38;5;28;43mself\u001b[39;49m\u001b[43m,\u001b[49m\u001b[43m \u001b[49m\u001b[43mmodule\u001b[49m\u001b[43m,\u001b[49m\u001b[43m \u001b[49m\u001b[43mname\u001b[49m\u001b[43m)\u001b[49m\n",
      "\u001b[0;31mModuleNotFoundError\u001b[0m: No module named 'numpy._core'",
      "\nDuring handling of the above exception, another exception occurred:\n",
      "\u001b[0;31mRuntimeError\u001b[0m                              Traceback (most recent call last)",
      "Cell \u001b[0;32mIn[5], line 1\u001b[0m\n\u001b[0;32m----> 1\u001b[0m a, b \u001b[38;5;241m=\u001b[39m \u001b[43mget_Te\u001b[49m\u001b[43m(\u001b[49m\u001b[43mr\u001b[49m\u001b[43m,\u001b[49m\u001b[43m \u001b[49m\u001b[43mtime\u001b[49m\u001b[43m)\u001b[49m\n",
      "Cell \u001b[0;32mIn[3], line 2\u001b[0m, in \u001b[0;36mget_Te\u001b[0;34m(r, t, sigma)\u001b[0m\n\u001b[1;32m      1\u001b[0m \u001b[38;5;28;01mdef\u001b[39;00m\u001b[38;5;250m \u001b[39m\u001b[38;5;21mget_Te\u001b[39m(r, t, sigma \u001b[38;5;241m=\u001b[39m \u001b[38;5;241m2\u001b[39m):\n\u001b[0;32m----> 2\u001b[0m     a, b \u001b[38;5;241m=\u001b[39m \u001b[43mr\u001b[49m\u001b[38;5;241;43m.\u001b[39;49m\u001b[43mGetTe\u001b[49m\u001b[43m(\u001b[49m\u001b[43mt\u001b[49m\u001b[43m,\u001b[49m\u001b[43m \u001b[49m\u001b[43mmerged\u001b[49m\u001b[38;5;241;43m=\u001b[39;49m\u001b[38;5;28;43;01mTrue\u001b[39;49;00m\u001b[43m)\u001b[49m\n\u001b[1;32m      3\u001b[0m     \u001b[38;5;28;01mreturn\u001b[39;00m a, b\n",
      "File \u001b[0;32m~/PHARE/pyphare/pyphare/pharesee/run/run.py:209\u001b[0m, in \u001b[0;36mRun.GetTe\u001b[0;34m(self, time, merged, interp, all_primal)\u001b[0m\n\u001b[1;32m    207\u001b[0m hier \u001b[38;5;241m=\u001b[39m \u001b[38;5;28mself\u001b[39m\u001b[38;5;241m.\u001b[39m_get_hierarchy(time, \u001b[38;5;124m\"\u001b[39m\u001b[38;5;124mions_density.h5\u001b[39m\u001b[38;5;124m\"\u001b[39m)\n\u001b[1;32m    208\u001b[0m \u001b[38;5;28mprint\u001b[39m(\u001b[38;5;28mdir\u001b[39m(hier\u001b[38;5;241m.\u001b[39m_sim))\n\u001b[0;32m--> 209\u001b[0m Te \u001b[38;5;241m=\u001b[39m \u001b[43mhier\u001b[49m\u001b[38;5;241;43m.\u001b[39;49m\u001b[43msim\u001b[49m\u001b[38;5;241m.\u001b[39melectrons\u001b[38;5;241m.\u001b[39mclosure\u001b[38;5;241m.\u001b[39mTe\n\u001b[1;32m    210\u001b[0m \u001b[38;5;28;01mif\u001b[39;00m merged:\n\u001b[1;32m    211\u001b[0m     all_primal\u001b[38;5;241m=\u001b[39m\u001b[38;5;28;01mFalse\u001b[39;00m\n",
      "File \u001b[0;32m~/PHARE/pyphare/pyphare/pharesee/hierarchy/hierarchy.py:135\u001b[0m, in \u001b[0;36mPatchHierarchy.sim\u001b[0;34m(self)\u001b[0m\n\u001b[1;32m    131\u001b[0m     \u001b[38;5;28mself\u001b[39m\u001b[38;5;241m.\u001b[39m_sim \u001b[38;5;241m=\u001b[39m deserialize(\n\u001b[1;32m    132\u001b[0m         first_file[\u001b[38;5;124m\"\u001b[39m\u001b[38;5;124mpy_attrs\u001b[39m\u001b[38;5;124m\"\u001b[39m]\u001b[38;5;241m.\u001b[39mattrs[\u001b[38;5;124m\"\u001b[39m\u001b[38;5;124mserialized_simulation\u001b[39m\u001b[38;5;124m\"\u001b[39m]\n\u001b[1;32m    133\u001b[0m     )\n\u001b[1;32m    134\u001b[0m \u001b[38;5;28;01mexcept\u001b[39;00m \u001b[38;5;167;01mException\u001b[39;00m \u001b[38;5;28;01mas\u001b[39;00m e:\n\u001b[0;32m--> 135\u001b[0m     \u001b[38;5;28;01mraise\u001b[39;00m \u001b[38;5;167;01mRuntimeError\u001b[39;00m(\u001b[38;5;124mf\u001b[39m\u001b[38;5;124m\"\u001b[39m\u001b[38;5;124mFailed to deserialize simulation from data file : \u001b[39m\u001b[38;5;132;01m{\u001b[39;00me\u001b[38;5;132;01m}\u001b[39;00m\u001b[38;5;124m\"\u001b[39m)\n\u001b[1;32m    136\u001b[0m \u001b[38;5;28;01mreturn\u001b[39;00m \u001b[38;5;28mself\u001b[39m\u001b[38;5;241m.\u001b[39m_sim\n",
      "\u001b[0;31mRuntimeError\u001b[0m: Failed to deserialize simulation from data file : No module named 'numpy._core'"
     ]
    }
   ],
   "source": [
    "a, b = get_Te(r, time)"
   ]
  },
  {
   "cell_type": "code",
   "execution_count": null,
   "id": "d1369801-8ab4-4270-a5de-aaee12551747",
   "metadata": {},
   "outputs": [],
   "source": [
    "print(a, b)"
   ]
  },
  {
   "cell_type": "code",
   "execution_count": 3,
   "id": "7188e15d-40da-4655-bd6d-f648587c72c5",
   "metadata": {
    "execution": {
     "iopub.execute_input": "2025-06-10T08:33:01.331202Z",
     "iopub.status.busy": "2025-06-10T08:33:01.330928Z",
     "iopub.status.idle": "2025-06-10T08:33:09.709615Z",
     "shell.execute_reply": "2025-06-10T08:33:09.709107Z",
     "shell.execute_reply.started": "2025-06-10T08:33:01.331188Z"
    }
   },
   "outputs": [
    {
     "data": {
      "text/plain": [
       "Text(0.5, 0, 'Time')"
      ]
     },
     "execution_count": 3,
     "metadata": {},
     "output_type": "execute_result"
    },
    {
     "data": {
      "application/vnd.jupyter.widget-view+json": {
       "model_id": "1424bfff74164fe8a13c0d7e88fa8c14",
       "version_major": 2,
       "version_minor": 0
      },
      "image/png": "[encoded data removed]",
      "text/html": [
       "\n",
       "            <div style=\"display: inline-block;\">\n",
       "                <div class=\"jupyter-widgets widget-label\" style=\"text-align: center;\">\n",
       "                    Figure\n",
       "                </div>\n",
       "                <img src='data:image/png;base64,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' width=600.0/>\n",
       "            </div>\n",
       "        "
      ],
      "text/plain": [
       "Canvas(toolbar=Toolbar(toolitems=[('Home', 'Reset original view', 'home', 'home'), ('Back', 'Back to previous …"
      ]
     },
     "metadata": {},
     "output_type": "display_data"
    }
   ],
   "source": [
    "fig, ax = plt.subplots(1, 1, figsize=(6, 4), constrained_layout=True)\n",
    "\n",
    "for i in range(5,7):\n",
    "    mode, times = modes_E(path, i)\n",
    "    ax.plot(times, mode, label=f\"mode n°{i+1}\")\n",
    "\n",
    "ax.legend()\n",
    "ax.set_title(\"Growing of the different modes\")\n",
    "ax.set_xlabel(\"Time\")"
   ]
  },
  {
   "cell_type": "code",
   "execution_count": 4,
   "id": "0a22eda9-ae6f-482e-89c2-654527dd507f",
   "metadata": {
    "execution": {
     "iopub.execute_input": "2025-06-10T08:33:09.710484Z",
     "iopub.status.busy": "2025-06-10T08:33:09.710307Z",
     "iopub.status.idle": "2025-06-10T08:33:09.716071Z",
     "shell.execute_reply": "2025-06-10T08:33:09.715633Z",
     "shell.execute_reply.started": "2025-06-10T08:33:09.710469Z"
    }
   },
   "outputs": [],
   "source": [
    "def gamma_Ex(run_path, i):\n",
    "    file = os.path.join(run_path, \"EM_B.h5\")\n",
    "    times = fromh5.get_times_from_h5(file)\n",
    "    dt = times[1] - times[0]\n",
    "    r = Run(run_path)\n",
    "    first_mode = np.array([])\n",
    "\n",
    "    for time in times:\n",
    "        E_hier = r.GetE(time, merged=True, interp=\"nearest\") #Was linear\n",
    "\n",
    "        ex_interpolator, xyz_finest = E_hier[\"Ex\"]\n",
    "\n",
    "        # remove the last point so that \"x\" is periodic wo. last point = first point\n",
    "        x = xyz_finest[0][:-1]\n",
    "\n",
    "        ex = ex_interpolator(x)\n",
    "\n",
    "        # get the mode 1, as it is the most unstable in a box of length 33\n",
    "        mode = np.absolute(np.fft.fft(ex)[i+1])\n",
    "        first_mode = np.append(first_mode,mode)\n",
    "    tmax = np.argmax(first_mode)\n",
    "    xmax = first_mode[tmax]\n",
    "\n",
    "    first_mode = first_mode[:tmax]\n",
    "    times = times[:tmax]\n",
    "\n",
    "    popt, pcov = curve_fit(yaebx, times[: tmax], first_mode, p0=[0.08, 0.09])\n",
    "    a, b = popt\n",
    "    \n",
    "    return a, b, times"
   ]
  },
  {
   "cell_type": "code",
   "execution_count": 5,
   "id": "b87a0f1a-cd6d-4137-921c-18a46b77f76b",
   "metadata": {
    "execution": {
     "iopub.execute_input": "2025-06-10T08:33:09.716893Z",
     "iopub.status.busy": "2025-06-10T08:33:09.716610Z",
     "iopub.status.idle": "2025-06-10T08:33:50.836990Z",
     "shell.execute_reply": "2025-06-10T08:33:50.836481Z",
     "shell.execute_reply.started": "2025-06-10T08:33:09.716879Z"
    }
   },
   "outputs": [],
   "source": [
    "alpha = []\n",
    "g = []\n",
    "for i in range(10):\n",
    "    a, b, times = gamma_Ex(path, i)\n",
    "    alpha.append(a)\n",
    "    g.append(b)"
   ]
  },
  {
   "cell_type": "code",
   "execution_count": 6,
   "id": "e141ec99-5156-48ea-9ed0-a52b10e00840",
   "metadata": {
    "execution": {
     "iopub.execute_input": "2025-06-10T08:33:50.837862Z",
     "iopub.status.busy": "2025-06-10T08:33:50.837672Z",
     "iopub.status.idle": "2025-06-10T08:33:50.841487Z",
     "shell.execute_reply": "2025-06-10T08:33:50.840957Z",
     "shell.execute_reply.started": "2025-06-10T08:33:50.837846Z"
    }
   },
   "outputs": [],
   "source": [
    "k = np.arange(1, i+2, 1)\n",
    "k = k*2*np.pi/r.GetDomainSize()[0]"
   ]
  },
  {
   "cell_type": "code",
   "execution_count": 7,
   "id": "5966b373-ab1b-42fb-af4c-5ca13c0f81db",
   "metadata": {
    "execution": {
     "iopub.execute_input": "2025-06-10T08:33:50.842409Z",
     "iopub.status.busy": "2025-06-10T08:33:50.842004Z",
     "iopub.status.idle": "2025-06-10T08:33:50.964509Z",
     "shell.execute_reply": "2025-06-10T08:33:50.964075Z",
     "shell.execute_reply.started": "2025-06-10T08:33:50.842395Z"
    }
   },
   "outputs": [
    {
     "data": {
      "text/plain": [
       "[<matplotlib.lines.Line2D at 0x7fae10825930>]"
      ]
     },
     "execution_count": 7,
     "metadata": {},
     "output_type": "execute_result"
    },
    {
     "data": {
      "application/vnd.jupyter.widget-view+json": {
       "model_id": "1f4ffc49b3ea470fbc0a12a710b5b5ee",
       "version_major": 2,
       "version_minor": 0
      },
      "image/png": "[encoded data removed]",
      "text/html": [
       "\n",
       "            <div style=\"display: inline-block;\">\n",
       "                <div class=\"jupyter-widgets widget-label\" style=\"text-align: center;\">\n",
       "                    Figure\n",
       "                </div>\n",
       "                <img src='data:image/png;base64,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' width=1200.0/>\n",
       "            </div>\n",
       "        "
      ],
      "text/plain": [
       "Canvas(toolbar=Toolbar(toolitems=[('Home', 'Reset original view', 'home', 'home'), ('Back', 'Back to previous …"
      ]
     },
     "metadata": {},
     "output_type": "display_data"
    }
   ],
   "source": [
    "fig, ax = plt.subplots(1,2, figsize =(12,4))\n",
    "\n",
    "ax[0].plot(k, alpha)\n",
    "ax[1].plot(k, g)"
   ]
  },
  {
   "cell_type": "code",
   "execution_count": 8,
   "id": "55efb019-f57c-4cc8-b430-62e63745e066",
   "metadata": {
    "execution": {
     "iopub.execute_input": "2025-06-10T08:33:50.965478Z",
     "iopub.status.busy": "2025-06-10T08:33:50.965164Z",
     "iopub.status.idle": "2025-06-10T08:33:55.165619Z",
     "shell.execute_reply": "2025-06-10T08:33:55.162944Z",
     "shell.execute_reply.started": "2025-06-10T08:33:50.965461Z"
    }
   },
   "outputs": [
    {
     "ename": "IndexError",
     "evalue": "index 0 is out of bounds for axis 0 with size 0",
     "output_type": "error",
     "traceback": [
      "\u001b[0;31m---------------------------------------------------------------------------\u001b[0m",
      "\u001b[0;31mIndexError\u001b[0m                                Traceback (most recent call last)",
      "Cell \u001b[0;32mIn[8], line 7\u001b[0m\n\u001b[1;32m      4\u001b[0m k \u001b[38;5;241m=\u001b[39m k\u001b[38;5;241m*\u001b[39m\u001b[38;5;241m2\u001b[39m\u001b[38;5;241m*\u001b[39mnp\u001b[38;5;241m.\u001b[39mpi\u001b[38;5;241m/\u001b[39mr\u001b[38;5;241m.\u001b[39mGetDomainSize()[\u001b[38;5;241m0\u001b[39m]\n\u001b[1;32m      6\u001b[0m \u001b[38;5;28;01mfor\u001b[39;00m i \u001b[38;5;129;01min\u001b[39;00m \u001b[38;5;28mrange\u001b[39m(km): \n\u001b[0;32m----> 7\u001b[0m     times, first_mode, ampli, gam, damped_mode, omega \u001b[38;5;241m=\u001b[39m \u001b[43mgrowth_b_right_hand\u001b[49m\u001b[43m(\u001b[49m\u001b[43mr\u001b[49m\u001b[38;5;241;43m.\u001b[39;49m\u001b[43mpath\u001b[49m\u001b[43m,\u001b[49m\u001b[43m \u001b[49m\u001b[38;5;241;43m0\u001b[39;49m\u001b[43m,\u001b[49m\u001b[43m \u001b[49m\u001b[43mi\u001b[49m\u001b[43m)\u001b[49m\n\u001b[1;32m      8\u001b[0m     W\u001b[38;5;241m.\u001b[39mappend(omega)\n\u001b[1;32m      9\u001b[0m \u001b[38;5;28mprint\u001b[39m(\u001b[38;5;124m\"\u001b[39m\u001b[38;5;124m$\u001b[39m\u001b[38;5;124m\\\u001b[39m\u001b[38;5;124momega_1$ = \u001b[39m\u001b[38;5;124m\"\u001b[39m, W[\u001b[38;5;241m0\u001b[39m], \u001b[38;5;124m\"\u001b[39m\u001b[38;5;124m$k_1$ = \u001b[39m\u001b[38;5;124m\"\u001b[39m, k[\u001b[38;5;241m0\u001b[39m], \u001b[38;5;124m\"\u001b[39m\u001b[38;5;124m$v_\u001b[39m\u001b[38;5;124m{\u001b[39m\u001b[38;5;124m\\\u001b[39m\u001b[38;5;124mphi}$ = \u001b[39m\u001b[38;5;124m\"\u001b[39m, k[\u001b[38;5;241m0\u001b[39m]\u001b[38;5;241m/\u001b[39mW[\u001b[38;5;241m0\u001b[39m])\n",
      "File \u001b[0;32m~/fluid_kinetic_class/2024/nb/get_get.py:252\u001b[0m, in \u001b[0;36mgrowth_b_right_hand\u001b[0;34m(run_path, time_offset, i)\u001b[0m\n\u001b[1;32m    249\u001b[0m     first_mode \u001b[38;5;241m=\u001b[39m np\u001b[38;5;241m.\u001b[39mappend(first_mode, mode1)\n\u001b[1;32m    251\u001b[0m ioffset \u001b[38;5;241m=\u001b[39m \u001b[38;5;28mint\u001b[39m(time_offset \u001b[38;5;241m/\u001b[39m dt)\n\u001b[0;32m--> 252\u001b[0m imax \u001b[38;5;241m=\u001b[39m \u001b[43mfind_peaks\u001b[49m\u001b[43m(\u001b[49m\u001b[43mfirst_mode\u001b[49m\u001b[43m,\u001b[49m\u001b[43m \u001b[49m\u001b[43mwidth\u001b[49m\u001b[38;5;241;43m=\u001b[39;49m\u001b[43mioffset\u001b[49m\u001b[43m)\u001b[49m\u001b[43m[\u001b[49m\u001b[38;5;241;43m0\u001b[39;49m\u001b[43m]\u001b[49m\u001b[43m[\u001b[49m\u001b[38;5;241;43m0\u001b[39;49m\u001b[43m]\u001b[49m \u001b[38;5;66;03m#Without width=ioffset\u001b[39;00m\n\u001b[1;32m    253\u001b[0m \u001b[38;5;66;03m# the curve_fit is performed from time index 0 to imax-ioffset as this offset prevent to use\u001b[39;00m\n\u001b[1;32m    254\u001b[0m \u001b[38;5;66;03m# the final part of the curve which is no more exponential as this is the end of the linear mode\u001b[39;00m\n\u001b[1;32m    255\u001b[0m popt, pcov \u001b[38;5;241m=\u001b[39m curve_fit(\n\u001b[1;32m    256\u001b[0m     yaebx, times[: imax \u001b[38;5;241m-\u001b[39m ioffset], first_mode[: imax \u001b[38;5;241m-\u001b[39m ioffset], p0\u001b[38;5;241m=\u001b[39m[\u001b[38;5;241m0.08\u001b[39m, \u001b[38;5;241m0.09\u001b[39m]\n\u001b[1;32m    257\u001b[0m )\n",
      "\u001b[0;31mIndexError\u001b[0m: index 0 is out of bounds for axis 0 with size 0"
     ]
    }
   ],
   "source": [
    "W = []\n",
    "km = 5 #Max 15 for the moment\n",
    "k = np.arange(1, km+1, 1)\n",
    "k = k*2*np.pi/r.GetDomainSize()[0]\n",
    "\n",
    "for i in range(km): \n",
    "    times, first_mode, ampli, gam, damped_mode, omega = growth_b_right_hand(r.path, 0, i)\n",
    "    W.append(omega)\n",
    "print(\"$\\omega_1$ = \", W[0], \"$k_1$ = \", k[0], \"$v_{\\phi}$ = \", k[0]/W[0])"
   ]
  },
  {
   "cell_type": "code",
   "execution_count": null,
   "id": "e851998d-aa15-42d3-8b0f-92eba403e9fe",
   "metadata": {
    "execution": {
     "iopub.status.busy": "2025-06-10T08:33:55.166148Z",
     "iopub.status.idle": "2025-06-10T08:33:55.166366Z",
     "shell.execute_reply": "2025-06-10T08:33:55.166281Z",
     "shell.execute_reply.started": "2025-06-10T08:33:55.166271Z"
    }
   },
   "outputs": [],
   "source": [
    "def growth_b_left_hand(r, run_path,**kwargs):\n",
    "    time_offset = 0\n",
    "    file = os.path.join(run_path, \"EM_B.h5\")\n",
    "    times = fromh5.get_times_from_h5(file)\n",
    "    dt = times[1] - times[0]\n",
    "    r = Run(run_path)\n",
    "    first_mode = np.array([])\n",
    "\n",
    "    for time in times:\n",
    "        B_hier = r.GetB(time, merged=True, interp=\"linear\")\n",
    "\n",
    "        by_interpolator, xyz_finest = B_hier[\"By\"]\n",
    "        bz_interpolator, xyz_finest = B_hier[\"Bz\"]\n",
    "        \n",
    "        x = xyz_finest[0][:-1]\n",
    "\n",
    "        by = by_interpolator(x)\n",
    "        bz = bz_interpolator(x)\n",
    "\n",
    "        mode1 = np.absolute(np.fft.fft(by + 1j * bz)[4])\n",
    "        first_mode = np.append(gf(first_mode,20), mode1)\n",
    "\n",
    "\n",
    "    ioffset = int(time_offset / dt)\n",
    "    imax = find_peaks(first_mode, width=ioffset)[0][0]\n",
    "\n",
    "    popt, pcov = curve_fit(yaebx, times[: imax - ioffset], first_mode[: imax - ioffset], p0=[0.08, 0.09])\n",
    "    ampl, gamma = popt\n",
    "\n",
    "    damped_mode = first_mode[: imax - ioffset] * yaebx(times[: imax - ioffset], 1 / popt[0], -popt[1])\n",
    "\n",
    "    omegas = np.fabs(np.fft.fft(damped_mode).real)\n",
    "    omega = (0.5 * (omegas[1 : omegas.size // 2].argmax() + 1) * 2 * np.pi / times[imax - 1 - ioffset])\n",
    "    \n",
    "    fig, ax1 = plt.subplots(1, 1, figsize=(6, 4), constrained_layout=True)\n",
    "\n",
    "    ax1.set_title(\"Time evolution of the first right-hand circular mode amplitude\")\n",
    "    ax1.plot(\n",
    "        times,\n",
    "        first_mode,\n",
    "        color=\"k\",\n",
    "        label=\"|$\\hat{E}_y$|\",\n",
    "    )\n",
    "    ax1.plot(\n",
    "        times[:imax],\n",
    "        yaebx(times[:imax], ampl, gamma),\n",
    "        color=\"r\",\n",
    "        linestyle=\"-\",\n",
    "        label=\"$E_0. \\exp(\\gamma t), \\ with\\ \\gamma =${:5.5f} (expected 0.09)\".format(\n",
    "            gamma\n",
    "        ),\n",
    "    )\n",
    "    ax1.axvline(0, 0, yaebx(times[imax], ampl, gamma), color=\"red\", linestyle=\"--\")\n",
    "    ax1.axvline(\n",
    "        times[imax] - time_offset,\n",
    "        0,\n",
    "        yaebx(times[imax], ampl, gamma),\n",
    "        color=\"red\",\n",
    "        linestyle=\"--\",\n",
    "    )\n",
    "    ax1.legend()\n",
    "    ax1.set_xlabel(\"t - Time\")\n",
    "\n",
    "    return times, first_mode, ampl, gamma, damped_mode, omega"
   ]
  },
  {
   "cell_type": "code",
   "execution_count": null,
   "id": "c4d34e13-a2a7-4f76-97a1-b4918606db29",
   "metadata": {
    "execution": {
     "iopub.status.busy": "2025-06-10T08:33:55.166883Z",
     "iopub.status.idle": "2025-06-10T08:33:55.167054Z",
     "shell.execute_reply": "2025-06-10T08:33:55.166973Z",
     "shell.execute_reply.started": "2025-06-10T08:33:55.166964Z"
    }
   },
   "outputs": [],
   "source": [
    "times, first_mode, ampl, gamma, dampe_mode, omega = growth_b_left_hand(r, path)"
   ]
  },
  {
   "cell_type": "code",
   "execution_count": null,
   "id": "e62dec47-614a-4e65-98d3-d440be900e86",
   "metadata": {
    "execution": {
     "iopub.status.busy": "2025-06-10T08:33:55.167630Z",
     "iopub.status.idle": "2025-06-10T08:33:55.167905Z",
     "shell.execute_reply": "2025-06-10T08:33:55.167822Z",
     "shell.execute_reply.started": "2025-06-10T08:33:55.167812Z"
    }
   },
   "outputs": [],
   "source": [
    "def modes_Ni(run_path, i):\n",
    "    file = os.path.join(run_path, \"ions_density.h5\")\n",
    "    times = fromh5.get_times_from_h5(file)  # Was get_times_from_h5 #Was none\n",
    "    dt = times[1] - times[0]\n",
    "    r = Run(run_path)\n",
    "    modes = np.array([])\n",
    "    for time in times:\n",
    "        Ni_hier = r.GetNi(time, merged=True, interp=\"linear\") #Was linear\n",
    "\n",
    "        ni_interpolator, xyz_finest = Ni_hier[\"rho\"]\n",
    "\n",
    "        # remove the last point so that \"x\" is periodic wo. last point = first point\n",
    "        x = xyz_finest[0][:-1]\n",
    "\n",
    "        ni = ni_interpolator(x)\n",
    "\n",
    "        # get the mode 1, as it is the most unstable in a box of length 33\n",
    "        mode = np.absolute(np.fft.fft(ni)[i+1])\n",
    "        modes = np.append(modes,mode)\n",
    "    return modes, times"
   ]
  },
  {
   "cell_type": "code",
   "execution_count": null,
   "id": "333d6806-f0cd-4a4d-b663-d6137f6ef22f",
   "metadata": {
    "execution": {
     "iopub.status.busy": "2025-06-10T08:33:55.168517Z",
     "iopub.status.idle": "2025-06-10T08:33:55.168686Z",
     "shell.execute_reply": "2025-06-10T08:33:55.168606Z",
     "shell.execute_reply.started": "2025-06-10T08:33:55.168597Z"
    }
   },
   "outputs": [],
   "source": [
    "fig, ax = plt.subplots(1,1)\n",
    "for i in range(10):\n",
    "    mode, times = modes_Ni(r.path, i)\n",
    "    ax.plot(times, mode)"
   ]
  },
  {
   "cell_type": "code",
   "execution_count": null,
   "id": "703f6389-5213-47f4-bdce-6cd0a2dcd72b",
   "metadata": {
    "execution": {
     "iopub.status.busy": "2025-06-10T08:33:55.169135Z",
     "iopub.status.idle": "2025-06-10T08:33:55.169302Z",
     "shell.execute_reply": "2025-06-10T08:33:55.169224Z",
     "shell.execute_reply.started": "2025-06-10T08:33:55.169216Z"
    }
   },
   "outputs": [],
   "source": [
    "time = 50\n",
    "\n"
   ]
  },
  {
   "cell_type": "code",
   "execution_count": null,
   "id": "6ec719e6-a286-4a18-84a6-f8ae6761c899",
   "metadata": {
    "execution": {
     "iopub.status.busy": "2025-06-10T08:33:55.169910Z",
     "iopub.status.idle": "2025-06-10T08:33:55.170074Z",
     "shell.execute_reply": "2025-06-10T08:33:55.169997Z",
     "shell.execute_reply.started": "2025-06-10T08:33:55.169988Z"
    }
   },
   "outputs": [],
   "source": [
    "main = r.GetParticles(time, [\"main\"])\n",
    "beam = r.GetParticles(time, [\"beam\"])\n",
    "both = r.GetParticles(time, [\"main\", \"beam\"])"
   ]
  },
  {
   "cell_type": "code",
   "execution_count": null,
   "id": "4d9e408e-f1aa-44bc-873f-10b0301d24f8",
   "metadata": {
    "execution": {
     "iopub.status.busy": "2025-06-10T08:33:55.170671Z",
     "iopub.status.idle": "2025-06-10T08:33:55.170841Z",
     "shell.execute_reply": "2025-06-10T08:33:55.170757Z",
     "shell.execute_reply.started": "2025-06-10T08:33:55.170748Z"
    }
   },
   "outputs": [],
   "source": [
    "dex, dey, dez, x = get_potentiel(r, times)\n",
    "ex, ey, ez, x = get_E(r, times)\n",
    "k = 2*np.pi/(r.GetDomainSize()[0])\n",
    "print(k)"
   ]
  },
  {
   "cell_type": "code",
   "execution_count": null,
   "id": "bd02e5d4-05b7-434b-8523-fb94879a47d2",
   "metadata": {
    "execution": {
     "iopub.status.busy": "2025-06-10T08:33:55.171378Z",
     "iopub.status.idle": "2025-06-10T08:33:55.171676Z",
     "shell.execute_reply": "2025-06-10T08:33:55.171596Z",
     "shell.execute_reply.started": "2025-06-10T08:33:55.171587Z"
    }
   },
   "outputs": [],
   "source": [
    "fig, ax = plt.subplots(1,1, figsize=(8,6))\n",
    "\n",
    "ax.plot(x, dex, label=\"dex\")\n",
    "ax.plot(x, dey,'.', label=\"dey\")\n",
    "ax.plot(x, dez, '--', label=\"dez\")\n",
    "ax.plot(x, -ex/k, 'black', label=\"ex/k\")\n",
    "ax.legend()"
   ]
  },
  {
   "cell_type": "code",
   "execution_count": null,
   "id": "9a416ffa-d501-4940-b7ac-4af847e147c2",
   "metadata": {
    "execution": {
     "iopub.status.busy": "2025-06-10T08:33:55.172067Z",
     "iopub.status.idle": "2025-06-10T08:33:55.172228Z",
     "shell.execute_reply": "2025-06-10T08:33:55.172151Z",
     "shell.execute_reply.started": "2025-06-10T08:33:55.172143Z"
    }
   },
   "outputs": [],
   "source": [
    "def growth_b_right_hand(run_path, time_offset):\n",
    "    file = os.path.join(run_path, \"EM_B.h5\")\n",
    "    times = fromh5.get_times_from_h5(file)  # Was get_times_from_h5 #Was none\n",
    "    dt = times[1] - times[0]\n",
    "    r = Run(run_path)\n",
    "    first_mode = np.array([])\n",
    "\n",
    "    for time in times:\n",
    "        B_hier = r.GetB(time, merged=True, interp=\"linear\")\n",
    "\n",
    "        by_interpolator, xyz_finest = B_hier[\"By\"]\n",
    "        bz_interpolator, xyz_finest = B_hier[\"Bz\"]\n",
    "        \n",
    "        # remove the last point so that \"x\" is periodic wo. last point = first point\n",
    "        x = xyz_finest[0][:-1]\n",
    "\n",
    "        by = by_interpolator(x)\n",
    "        bz = bz_interpolator(x)\n",
    "\n",
    "        # get the mode 1, as it is the most unstable in a box of length 33\n",
    "        mode1 = np.absolute(np.fft.fft(by - 1j * bz)[1])\n",
    "        first_mode = np.append(first_mode, mode1)\n",
    "\n",
    "    ioffset = int(time_offset / dt)\n",
    "    imax = find_peaks(first_mode, width=ioffset)[0][0] #Without width=ioffset\n",
    "    # the curve_fit is performed from time index 0 to imax-ioffset as this offset prevent to use\n",
    "    # the final part of the curve which is no more exponential as this is the end of the linear mode\n",
    "    popt, pcov = curve_fit(\n",
    "        yaebx, times[: imax - ioffset], first_mode[: imax - ioffset], p0=[0.08, 0.09]\n",
    "    )\n",
    "\n",
    "    # now the signal is stripped from its exponential part\n",
    "    damped_mode = first_mode[: imax - ioffset] * yaebx(\n",
    "        times[: imax - ioffset], 1 / popt[0], -popt[1]\n",
    "    )\n",
    "\n",
    "    # find the omega for which \"damped_mode\" is the largest :\n",
    "    # this term is twice the one it should be because \"mode1\" resulting from\n",
    "    # an absolute value, this (cosx)^2 = cos(2x) then appears at the 2nd\n",
    "    # harmonoic (hence the factor 0.5 to get \"omega\")\n",
    "    # the factor \"+1\" is because we remove the DC component, so the value\n",
    "    # given by argmax has also to miss this value\n",
    "    omegas = np.fabs(np.fft.fft(damped_mode).real)\n",
    "    omega = (\n",
    "        0.5\n",
    "        * (omegas[1 : omegas.size // 2].argmax() + 1)\n",
    "        * 2\n",
    "        * np.pi\n",
    "        / times[imax - 1 - ioffset]\n",
    "    )\n",
    "\n",
    "    return times, first_mode, popt[0], popt[1], damped_mode, omega"
   ]
  },
  {
   "cell_type": "code",
   "execution_count": null,
   "id": "2876f7f3-e3cf-492e-89ad-c3a22972c2d1",
   "metadata": {
    "execution": {
     "iopub.status.busy": "2025-06-10T08:33:55.172770Z",
     "iopub.status.idle": "2025-06-10T08:33:55.172947Z",
     "shell.execute_reply": "2025-06-10T08:33:55.172869Z",
     "shell.execute_reply.started": "2025-06-10T08:33:55.172860Z"
    }
   },
   "outputs": [],
   "source": [
    "time_offset = np.arange(0, 20, 1)#Max 23.29 (or 23.299999999999)\n",
    "\n",
    "for t in time_offset:\n",
    "    times, first_mode, ampl, gamma, damped_mode, omega = growth_b_right_hand(\n",
    "    path, t\n",
    "    )"
   ]
  },
  {
   "cell_type": "code",
   "execution_count": null,
   "id": "3f707332-68f4-4e78-a3b0-6a86b06534b3",
   "metadata": {
    "execution": {
     "iopub.status.busy": "2025-06-10T08:33:55.173436Z",
     "iopub.status.idle": "2025-06-10T08:33:55.173597Z",
     "shell.execute_reply": "2025-06-10T08:33:55.173521Z",
     "shell.execute_reply.started": "2025-06-10T08:33:55.173512Z"
    }
   },
   "outputs": [],
   "source": [
    "times = np.array([0, 20, 50, 99])"
   ]
  },
  {
   "cell_type": "code",
   "execution_count": null,
   "id": "6e9074c9-3667-41f6-bde6-8b17f0ba1c3d",
   "metadata": {
    "execution": {
     "iopub.status.busy": "2025-06-10T08:33:55.174043Z",
     "iopub.status.idle": "2025-06-10T08:33:55.174266Z",
     "shell.execute_reply": "2025-06-10T08:33:55.174187Z",
     "shell.execute_reply.started": "2025-06-10T08:33:55.174178Z"
    }
   },
   "outputs": [],
   "source": [
    "bx, by, bz, x = get_B(r, times)\n",
    "print(times)"
   ]
  },
  {
   "cell_type": "code",
   "execution_count": null,
   "id": "c9e59a07-0f4f-44e1-9bd9-57c59a09330c",
   "metadata": {
    "execution": {
     "iopub.status.busy": "2025-06-10T08:33:55.174903Z",
     "iopub.status.idle": "2025-06-10T08:33:55.175064Z",
     "shell.execute_reply": "2025-06-10T08:33:55.174986Z",
     "shell.execute_reply.started": "2025-06-10T08:33:55.174979Z"
    }
   },
   "outputs": [],
   "source": [
    "fig, ax = plt.subplots(1, 1, constrained_layout=True)\n",
    "ax.plot(by, bz)\n",
    "ax.plot(by[0], bz[0], marker=\"o\", label=\"x = 0\", color=\"k\")\n",
    "ax.plot(by[40], bz[40], marker=\"s\", label=f\"x = {x[20]}\", color=\"k\")\n",
    "\n",
    "ax.legend()\n",
    "ax.set_title(\"Polarisation\")\n",
    "ax.set_xlabel(\"$B_y$\")\n",
    "ax.set_ylabel(\"$B_z$\")"
   ]
  },
  {
   "cell_type": "code",
   "execution_count": null,
   "id": "0b735432-ae01-4218-8acf-5e2626a75f3e",
   "metadata": {
    "execution": {
     "iopub.status.busy": "2025-06-10T08:33:55.175502Z",
     "iopub.status.idle": "2025-06-10T08:33:55.175663Z",
     "shell.execute_reply": "2025-06-10T08:33:55.175586Z",
     "shell.execute_reply.started": "2025-06-10T08:33:55.175578Z"
    }
   },
   "outputs": [],
   "source": [
    "ex, ey, ez, x = get_E(r, times)"
   ]
  },
  {
   "cell_type": "code",
   "execution_count": null,
   "id": "5e20db55-48e7-49ce-9a11-7b183719cf47",
   "metadata": {
    "execution": {
     "iopub.status.busy": "2025-06-10T08:33:55.176206Z",
     "iopub.status.idle": "2025-06-10T08:33:55.176369Z",
     "shell.execute_reply": "2025-06-10T08:33:55.176292Z",
     "shell.execute_reply.started": "2025-06-10T08:33:55.176284Z"
    }
   },
   "outputs": [],
   "source": [
    "# Max 23.29 (or 23.299999999999)\n",
    "\n",
    "fig, ax = plt.subplots(1, 1, figsize=(6, 4), constrained_layout=True)\n",
    "\n",
    "for i in range(10):\n",
    "    mode, times = modes(path,i)\n",
    "    ax.plot(times, mode, label=f\"mode n°{i+1}\")\n",
    "\n",
    "ax.legend()\n",
    "ax.set_title(\"Evolution des différents modes au cours du temps\")\n",
    "ax.set_xlabel(\"Temps\")"
   ]
  },
  {
   "cell_type": "code",
   "execution_count": null,
   "id": "8ee91952-fa7b-4032-a286-5782c501af22",
   "metadata": {
    "execution": {
     "iopub.status.busy": "2025-06-10T08:33:55.176807Z",
     "iopub.status.idle": "2025-06-10T08:33:55.176966Z",
     "shell.execute_reply": "2025-06-10T08:33:55.176890Z",
     "shell.execute_reply.started": "2025-06-10T08:33:55.176882Z"
    }
   },
   "outputs": [],
   "source": [
    "xV, vtx, vty, vtz = get_velocities(r, times)\n",
    "profiles(times, xV, vtx)"
   ]
  },
  {
   "cell_type": "code",
   "execution_count": null,
   "id": "a9e733e2-8614-4ef7-bb96-d1f26bb700f4",
   "metadata": {
    "execution": {
     "iopub.status.busy": "2025-06-10T08:33:55.177413Z",
     "iopub.status.idle": "2025-06-10T08:33:55.177576Z",
     "shell.execute_reply": "2025-06-10T08:33:55.177499Z",
     "shell.execute_reply.started": "2025-06-10T08:33:55.177491Z"
    }
   },
   "outputs": [],
   "source": [
    "times = np.arange(0, 100, 10)\n",
    "pxx, pxy, pxz, pyy, pyz, pzz, x = get_pressures(r, times)"
   ]
  },
  {
   "cell_type": "code",
   "execution_count": null,
   "id": "da5171f2-399d-4637-b497-540fa6061841",
   "metadata": {
    "execution": {
     "iopub.status.busy": "2025-06-10T08:33:55.178139Z",
     "iopub.status.idle": "2025-06-10T08:33:55.178298Z",
     "shell.execute_reply": "2025-06-10T08:33:55.178222Z",
     "shell.execute_reply.started": "2025-06-10T08:33:55.178214Z"
    }
   },
   "outputs": [],
   "source": [
    "fig, ax = plt.subplots(1, 2, figsize=(8, 6), constrained_layout=True)\n",
    "ax[0].plot(x, pxx)\n",
    "ax[1].plot(pxy, pxz)\n",
    "\n",
    "fg, ax = plt.subplots(1,1, figsize=(8,6), constrained_layout=True)\n",
    "A = (pyy+pzz)/(2*pxx)\n",
    "\n",
    "ax.plot(x, A)"
   ]
  },
  {
   "cell_type": "code",
   "execution_count": null,
   "id": "7c662192-be88-4ad5-bee5-b2fa8f085952",
   "metadata": {
    "execution": {
     "iopub.status.busy": "2025-06-10T08:33:55.178835Z",
     "iopub.status.idle": "2025-06-10T08:33:55.178998Z",
     "shell.execute_reply": "2025-06-10T08:33:55.178922Z",
     "shell.execute_reply.started": "2025-06-10T08:33:55.178914Z"
    }
   },
   "outputs": [],
   "source": [
    "fig, ax = plt.subplots(1,1, figsize=(6,6))\n",
    "\n",
    "ax.plot(pxx, pyy)"
   ]
  },
  {
   "cell_type": "code",
   "execution_count": null,
   "id": "19a06654-f856-436e-a3f6-94dd691e515b",
   "metadata": {
    "execution": {
     "iopub.status.busy": "2025-06-10T08:33:55.179479Z",
     "iopub.status.idle": "2025-06-10T08:33:55.179640Z",
     "shell.execute_reply": "2025-06-10T08:33:55.179562Z",
     "shell.execute_reply.started": "2025-06-10T08:33:55.179554Z"
    }
   },
   "outputs": [],
   "source": [
    "x, nt = get_densities(r, times)\n",
    "T = nt/pxx"
   ]
  },
  {
   "cell_type": "code",
   "execution_count": null,
   "id": "977f6bee-7acb-472a-b638-5c193c5e5632",
   "metadata": {
    "execution": {
     "iopub.status.busy": "2025-06-10T08:33:55.180172Z",
     "iopub.status.idle": "2025-06-10T08:33:55.180340Z",
     "shell.execute_reply": "2025-06-10T08:33:55.180261Z",
     "shell.execute_reply.started": "2025-06-10T08:33:55.180251Z"
    }
   },
   "outputs": [],
   "source": [
    "fig, ax = plt.subplots(1,1, figsize=(6,6))\n",
    "ax.set_title(\"Température\")\n",
    "ax.set_xlabel(\"position\")\n",
    "ax.set_ylabel(\"Température\")\n",
    "ax.plot(x, T[:x.size], label=\"Température\")\n",
    "ax.legend()"
   ]
  },
  {
   "cell_type": "code",
   "execution_count": null,
   "id": "01d461a3-54ca-4f1b-8322-132eb1db2906",
   "metadata": {
    "execution": {
     "iopub.status.busy": "2025-06-10T08:33:55.180858Z",
     "iopub.status.idle": "2025-06-10T08:33:55.181018Z",
     "shell.execute_reply": "2025-06-10T08:33:55.180942Z",
     "shell.execute_reply.started": "2025-06-10T08:33:55.180934Z"
    }
   },
   "outputs": [],
   "source": [
    "hier = self._get_hierarchy(times, \"ions_density.h5\")\n",
    "Te = hier.sim.electrons.closure.Te\n",
    "print(Te * self._get(hier, time, merged, interp))"
   ]
  },
  {
   "cell_type": "code",
   "execution_count": null,
   "id": "58d33f84-94a0-4ad4-95c1-6efc9a9a55e6",
   "metadata": {
    "execution": {
     "iopub.status.busy": "2025-06-10T08:33:55.181538Z",
     "iopub.status.idle": "2025-06-10T08:33:55.181699Z",
     "shell.execute_reply": "2025-06-10T08:33:55.181623Z",
     "shell.execute_reply.started": "2025-06-10T08:33:55.181615Z"
    }
   },
   "outputs": [],
   "source": [
    "p = len(bx)\n",
    "Betha = (np.sqrt(pxx[:p]**2+pyy[:p]**2+pzz[:p]**2))/(np.sqrt(bx**2+by**2+bz**2)*2)"
   ]
  },
  {
   "cell_type": "code",
   "execution_count": null,
   "id": "bcabfa75-e2f4-4bc8-9a81-e820eabbbe06",
   "metadata": {
    "execution": {
     "iopub.status.busy": "2025-06-10T08:33:55.182303Z",
     "iopub.status.idle": "2025-06-10T08:33:55.182462Z",
     "shell.execute_reply": "2025-06-10T08:33:55.182386Z",
     "shell.execute_reply.started": "2025-06-10T08:33:55.182377Z"
    }
   },
   "outputs": [],
   "source": [
    "fig, ax = plt.subplots(1,1, figsize=(8,6))\n",
    "ax.plot(Betha)"
   ]
  },
  {
   "cell_type": "code",
   "execution_count": null,
   "id": "ddc2ace6-3e48-440a-825f-355ec441d53d",
   "metadata": {
    "execution": {
     "iopub.status.busy": "2025-06-10T08:33:55.182941Z",
     "iopub.status.idle": "2025-06-10T08:33:55.183104Z",
     "shell.execute_reply": "2025-06-10T08:33:55.183026Z",
     "shell.execute_reply.started": "2025-06-10T08:33:55.183018Z"
    }
   },
   "outputs": [],
   "source": [
    "def get_peaks(x,Vs):\n",
    "    nt = Vs.shape[1]\n",
    "    positions  = np.zeros((nt,2))\n",
    "    amplitudes = np.zeros((nt,2))\n",
    "    for it in range(nt):\n",
    "        ps = find_peaks(Vs[:,it], height=0.010)\n",
    "        if (len(ps[0])==1):\n",
    "            positions[it,0] = x[ps[0]]\n",
    "            positions[it,1] = x[ps[0]]\n",
    "            amplitudes[it,0]  = Vs[ps[0][0], it]\n",
    "            amplitudes[it,1]  = Vs[ps[0][0],it]\n",
    "        else:\n",
    "            positions[it,0]  = x[ps[0][0]]\n",
    "            positions[it,1]  = x[ps[0][1]]\n",
    "            amplitudes[it,0]  = Vs[ps[0][0], it]\n",
    "            amplitudes[it,1]  = Vs[ps[0][1],it]\n",
    "    return positions, amplitudes"
   ]
  },
  {
   "cell_type": "code",
   "execution_count": null,
   "id": "baed97f0-bfa8-4fac-9032-6141aef6156c",
   "metadata": {
    "execution": {
     "iopub.status.busy": "2025-06-10T08:33:55.183724Z",
     "iopub.status.idle": "2025-06-10T08:33:55.183899Z",
     "shell.execute_reply": "2025-06-10T08:33:55.183818Z",
     "shell.execute_reply.started": "2025-06-10T08:33:55.183800Z"
    }
   },
   "outputs": [],
   "source": [
    "def profiles(times, x, Vs, positions, temperature):\n",
    "    fig, ax = plt.subplots()\n",
    "    for it,t in enumerate(times):\n",
    "        ax.plot(x, Vs[:,it], label=r\"t={:6.4f}\".format(t))\n",
    "    ax.set_title(\"T = {:6.4f}\".format(temperature))\n",
    "    ax.legend()\n",
    "    "
   ]
  },
  {
   "cell_type": "code",
   "execution_count": null,
   "id": "2c0d9696-34a7-41e0-bc09-a348ed7f9f9f",
   "metadata": {
    "execution": {
     "iopub.status.busy": "2025-06-10T08:33:55.184304Z",
     "iopub.status.idle": "2025-06-10T08:33:55.184464Z",
     "shell.execute_reply": "2025-06-10T08:33:55.184387Z",
     "shell.execute_reply.started": "2025-06-10T08:33:55.184379Z"
    }
   },
   "outputs": [],
   "source": [
    "def damping(times, amplitudes, **kw):\n",
    "    fig,ax = plt.subplots()\n",
    "    ax.plot(times,amplitudes[:,0], marker=\"o\", color=\"r\", ls=\"None\")\n",
    "    ax.plot(times,amplitudes[:,1], marker=\"o\", color=\"b\", ls=\"None\")"
   ]
  },
  {
   "cell_type": "code",
   "execution_count": null,
   "id": "1951a979-046f-41de-b175-e3c6bc02bdbb",
   "metadata": {
    "execution": {
     "iopub.status.busy": "2025-06-10T08:33:55.185127Z",
     "iopub.status.idle": "2025-06-10T08:33:55.185287Z",
     "shell.execute_reply": "2025-06-10T08:33:55.185211Z",
     "shell.execute_reply.started": "2025-06-10T08:33:55.185203Z"
    }
   },
   "outputs": [],
   "source": [
    "times  = np.asarray((0,25,50,75,99))\n",
    "xV, vtx = get_densities(r, times)\n",
    "\n",
    "positions, amplitudes = get_peaks(xV,vtx)\n",
    "print(positions, amplitudes)"
   ]
  },
  {
   "cell_type": "code",
   "execution_count": null,
   "id": "231ffb60-d596-48b3-8e8b-48b54826ea1a",
   "metadata": {
    "execution": {
     "iopub.status.busy": "2025-06-10T08:33:55.185791Z",
     "iopub.status.idle": "2025-06-10T08:33:55.185960Z",
     "shell.execute_reply": "2025-06-10T08:33:55.185882Z",
     "shell.execute_reply.started": "2025-06-10T08:33:55.185874Z"
    }
   },
   "outputs": [],
   "source": [
    "profiles(times, xV, vtx, positions, 0.1)"
   ]
  },
  {
   "cell_type": "code",
   "execution_count": null,
   "id": "05cb8d7e-04dd-430c-8eb0-6fee3048358d",
   "metadata": {
    "execution": {
     "iopub.status.busy": "2025-06-10T08:33:55.186594Z",
     "iopub.status.idle": "2025-06-10T08:33:55.186756Z",
     "shell.execute_reply": "2025-06-10T08:33:55.186679Z",
     "shell.execute_reply.started": "2025-06-10T08:33:55.186671Z"
    }
   },
   "outputs": [],
   "source": [
    "damping(times, amplitudes)"
   ]
  },
  {
   "cell_type": "code",
   "execution_count": null,
   "id": "bf971030-83c9-417c-9d42-e6e5fe6184c6",
   "metadata": {
    "execution": {
     "iopub.status.busy": "2025-06-10T08:33:55.187352Z",
     "iopub.status.idle": "2025-06-10T08:33:55.187511Z",
     "shell.execute_reply": "2025-06-10T08:33:55.187434Z",
     "shell.execute_reply.started": "2025-06-10T08:33:55.187427Z"
    }
   },
   "outputs": [],
   "source": [
    "xyz_ = xyz_fine(0, r)[0]\n",
    "h = np.zeros(len(xyz_)-1)\n",
    "for i in range(len(h)):\n",
    "    h[i] = xyz_[i+1]-xyz_[i]\n",
    "dx = set()\n",
    "for j in range(len(h)):\n",
    "    for i in range(len(h)):\n",
    "        if h[j] == h[i]:\n",
    "            dx.add(h[i])"
   ]
  },
  {
   "cell_type": "code",
   "execution_count": null,
   "id": "2689f6b3-84eb-4c7b-a814-9286a17a6a96",
   "metadata": {
    "execution": {
     "iopub.status.busy": "2025-06-10T08:33:55.188080Z",
     "iopub.status.idle": "2025-06-10T08:33:55.188246Z",
     "shell.execute_reply": "2025-06-10T08:33:55.188167Z",
     "shell.execute_reply.started": "2025-06-10T08:33:55.188158Z"
    }
   },
   "outputs": [],
   "source": [
    "time = 99.0\n",
    "\n",
    "def get_level_points(r, time, name): #name = main or beam\n",
    "    if name == 'main':\n",
    "        hier = r._get_hierarchy(time, filename=f\"ions_pop_beam_domain.h5\")\n",
    "    elif name == 'beam': \n",
    "        hier = r._get_hierarchy(time, filename=\"ions_pop_main_domain.h5\")\n",
    "    elif name == 'both' :\n",
    "        hier = r.GetParticles(time, [\"main\", \"beam\"])\n",
    "    p = dist_plot(hier, axis=(\"Vx\", \"Vy\"), plot_type=\"scatter\")\n",
    "    values = p[1][0]\n",
    "    sort = np.argsort(values)\n",
    "    point = []\n",
    "    for i, val in enumerate(values):\n",
    "        pos = np.where(sort == i)[0][0]\n",
    "        point.append({\n",
    "            \"val\" : val,\n",
    "            \"num\" : i,\n",
    "            \"pos\" : pos,\n",
    "        })\n",
    "    sorted_by_pos = sorted(point, key=lambda x: x[\"pos\"])\n",
    "    diff = []\n",
    "    for i in range(values.size-1):\n",
    "        diff_ = sorted_by_pos[i+1][\"val\"]-sorted_by_pos[i][\"val\"]\n",
    "        diff.append(diff_)\n",
    "    for i in range(len(diff)):\n",
    "        for j in range(10):\n",
    "            de = np.round(diff[i], decimals = j)\n",
    "            if de != 0:\n",
    "                sorted_by_pos[i][\"levels\"] = j\n",
    "                break\n",
    "    for i in range(len(diff)):\n",
    "        point[sorted_by_pos[i][\"num\"]][\"levels\"] = sorted_by_pos[i][\"levels\"]\n",
    "    point[sorted_by_pos[-1][\"num\"]][\"levels\"] = point[sorted_by_pos[0][\"num\"]][\"levels\"]\n",
    "    \n",
    "    return point, diff, p\n",
    "#All levels are not on point\n",
    "#We used the difference between two points.\n",
    "#So the level is for a space between points, and not directly points.\n",
    "#But here we say it's the same, be careful."
   ]
  },
  {
   "cell_type": "code",
   "execution_count": null,
   "id": "f6f7948e-9638-41b7-9537-572679bcdd7f",
   "metadata": {
    "execution": {
     "iopub.status.busy": "2025-06-10T08:33:55.188676Z",
     "iopub.status.idle": "2025-06-10T08:33:55.188846Z",
     "shell.execute_reply": "2025-06-10T08:33:55.188760Z",
     "shell.execute_reply.started": "2025-06-10T08:33:55.188752Z"
    }
   },
   "outputs": [],
   "source": [
    "point, diff, test = get_level_points(r, time, 'both')\n",
    "\n",
    "#level 1\n",
    "levels_1_points = []\n",
    "levels_1_val = []\n",
    "for j in range(len(diff)):\n",
    "    if point[j][\"levels\"] == 1:\n",
    "        levels_1_points.append(point[j])\n",
    "        levels_1_val.append(point[j][\"val\"])\n",
    "    v1 = []\n",
    "    for j in range(len(levels_1_points)):\n",
    "        p = levels_1_points[j][\"pos\"]\n",
    "        v1.append(test[1][1][p])\n",
    "\n",
    "#level 2\n",
    "levels_2_points = []\n",
    "levels_2_val = []\n",
    "for j in range(len(diff)):\n",
    "    if point[j][\"levels\"] == 2:\n",
    "        levels_2_points.append(point[j])\n",
    "        levels_2_val.append(point[j][\"val\"])\n",
    "    v2 = []\n",
    "    for j in range(len(levels_2_points)):\n",
    "        p = levels_2_points[j][\"pos\"]\n",
    "        v2.append(test[1][1][p])\n",
    "\n",
    "#level 3\n",
    "levels_3_points = []\n",
    "levels_3_val = []\n",
    "for j in range(len(diff)):\n",
    "    if point[j][\"levels\"] == 3:\n",
    "        levels_3_points.append(point[j])\n",
    "        levels_3_val.append(point[j][\"val\"])\n",
    "    v3 = []\n",
    "    for j in range(len(levels_3_points)):\n",
    "        p = levels_3_points[j][\"pos\"]\n",
    "        v3.append(test[1][1][p])\n",
    "\n",
    "#level 4\n",
    "levels_4_points = []\n",
    "levels_4_val = []\n",
    "for j in range(len(diff)):\n",
    "    if point[j][\"levels\"] == 4:\n",
    "        levels_4_points.append(point[j])\n",
    "        levels_4_val.append(point[j][\"val\"])\n",
    "    v4 = []\n",
    "    for j in range(len(levels_4_points)):\n",
    "        p = levels_4_points[j][\"pos\"]\n",
    "        v4.append(test[1][1][p])\n",
    "\n",
    "#level 5\n",
    "levels_5_points = []\n",
    "levels_5_val = []\n",
    "for j in range(len(diff)):\n",
    "    if point[j][\"levels\"] == 5:\n",
    "        levels_5_points.append(point[j])\n",
    "        levels_5_val.append(point[j][\"val\"])\n",
    "    v5 = []\n",
    "    for j in range(len(levels_5_points)):\n",
    "        p = levels_5_points[j][\"pos\"]\n",
    "        v5.append(test[1][1][p])\n",
    "\n",
    "#level 6\n",
    "levels_6_points = []\n",
    "levels_6_val = []\n",
    "for j in range(len(diff)):\n",
    "    if point[j][\"levels\"] == 6:\n",
    "        levels_6_points.append(point[j])\n",
    "        levels_6_val.append(point[j][\"val\"])\n",
    "    v6 = []\n",
    "    for j in range(len(levels_6_points)):\n",
    "        p = levels_6_points[j][\"pos\"]\n",
    "        v6.append(test[1][1][p])\n",
    "\n",
    "#level 7\n",
    "levels_7_points = []\n",
    "levels_7_val = []\n",
    "for j in range(len(diff)):\n",
    "    if point[j][\"levels\"] == 7:\n",
    "        levels_7_points.append(point[j])\n",
    "        levels_7_val.append(point[j][\"val\"])\n",
    "    v7 = []\n",
    "    for j in range(len(levels_7_points)):\n",
    "        p = levels_7_points[j][\"pos\"]\n",
    "        v7.append(test[1][1][p])"
   ]
  },
  {
   "cell_type": "code",
   "execution_count": null,
   "id": "5dbdf034-6c48-4fc8-9cfc-4a7037a627cb",
   "metadata": {
    "execution": {
     "iopub.status.busy": "2025-06-10T08:33:55.189450Z",
     "iopub.status.idle": "2025-06-10T08:33:55.189686Z",
     "shell.execute_reply": "2025-06-10T08:33:55.189609Z",
     "shell.execute_reply.started": "2025-06-10T08:33:55.189601Z"
    }
   },
   "outputs": [],
   "source": [
    "fig, ax = plt.subplots(1,1, figsize=(10,4))\n",
    "\n",
    "ax.scatter(levels_1_val, v1, color='b', marker='.', s=10)\n",
    "ax.scatter(levels_2_val, v2, color='b', marker='.', s=25)\n",
    "ax.scatter(levels_3_val, v3, color='r', marker='.', s=50)\n",
    "ax.scatter(levels_4_val, v4, color='g', marker='.', s=125)\n",
    "ax.scatter(levels_5_val, v5, color='black', marker='.', s=250)\n",
    "ax.scatter(levels_6_val, v6, color= 'pink', marker='.', s=500)\n",
    "ax.scatter(levels_7_val, v7, color='purple', marker='.', s=1000)\n",
    "\n",
    "fig, ax = plt.subplots(1,7, figsize=(18,4))\n",
    "\n",
    "ax[0].scatter(levels_1_val, v1, color='b', marker='.', s=10)\n",
    "ax[1].scatter(levels_2_val, v2, color='b', marker='.', s=10)\n",
    "ax[2].scatter(levels_3_val, v3, color='r', marker='.', s=10)\n",
    "ax[3].scatter(levels_4_val, v4, color='g', marker='.', s=10)\n",
    "ax[4].scatter(levels_5_val, v5, color='black', marker='.', s=10)\n",
    "ax[5].scatter(levels_6_val, v6, color='pink', marker='.', s=10)\n",
    "ax[6].scatter(levels_7_val, v7, color='purple',  marker='.', s=10)\n",
    "\n",
    "for i in range(7):\n",
    "    ax[i].set_title(f\"Level {i+1}\")"
   ]
  },
  {
   "cell_type": "code",
   "execution_count": null,
   "id": "8791d79b-4ca5-48ba-aa55-28adad57cb0e",
   "metadata": {
    "execution": {
     "iopub.status.busy": "2025-06-10T08:33:55.190290Z",
     "iopub.status.idle": "2025-06-10T08:33:55.190453Z",
     "shell.execute_reply": "2025-06-10T08:33:55.190374Z",
     "shell.execute_reply.started": "2025-06-10T08:33:55.190366Z"
    }
   },
   "outputs": [],
   "source": [
    "import numba"
   ]
  },
  {
   "cell_type": "code",
   "execution_count": null,
   "id": "eb74b064-bdf2-47aa-84ad-0bd1b0ea7258",
   "metadata": {
    "execution": {
     "iopub.status.busy": "2025-06-10T08:33:55.190943Z",
     "iopub.status.idle": "2025-06-10T08:33:55.191103Z",
     "shell.execute_reply": "2025-06-10T08:33:55.191027Z",
     "shell.execute_reply.started": "2025-06-10T08:33:55.191019Z"
    }
   },
   "outputs": [],
   "source": [
    "#At first, we took np.min(diff). But the value is too low, which means the calculus took too much time.\n",
    "#We take only until level 5 precision. More it's a wast of time\n",
    "#Decimal max = 4\n",
    "diff_arrondi = np.round(diff, decimals=4)\n",
    "diff_arrondi = diff_arrondi[diff_arrondi !=0]\n",
    "print(np.min(diff_arrondi))"
   ]
  },
  {
   "cell_type": "code",
   "execution_count": null,
   "id": "9369aa29-05a8-479a-8dce-b2cc47b7e9ae",
   "metadata": {
    "execution": {
     "iopub.status.busy": "2025-06-10T08:33:55.191654Z",
     "iopub.status.idle": "2025-06-10T08:33:55.191907Z",
     "shell.execute_reply": "2025-06-10T08:33:55.191826Z",
     "shell.execute_reply.started": "2025-06-10T08:33:55.191817Z"
    }
   },
   "outputs": [],
   "source": [
    "di=np.min(diff_arrondi)\n",
    "pm = np.max(test[1][0])\n",
    "posi = np.array(test[1][0])\n",
    "values = np.array(test[1][1])\n",
    "\n",
    "@numba.njit\n",
    "def grill(di, pm, posi):\n",
    "    gril = np.arange(0, pm, di)\n",
    "    return gril\n",
    "\n",
    "gril = grill(di, pm, posi)\n",
    "gril = np.union1d(gril, posi)\n",
    "\n",
    "@numba.njit\n",
    "def merged(gril, posi):\n",
    "    for i in range(gril.size):\n",
    "        found = False\n",
    "        for j in range(posi.size):\n",
    "            if gril[i] == posi[j]:\n",
    "                found = True\n",
    "                break\n",
    "        if not found:\n",
    "            gril[i] = 0\n",
    "    return gril\n",
    "\n",
    "gril_modifié = merged(gril, posi)\n",
    "\n",
    "@numba.njit\n",
    "def p_to_v(gril, values, posi):\n",
    "    for i in range(gril.size):\n",
    "        if gril[i] != 0. :\n",
    "            for j in range(values.size):\n",
    "                if gril[i] == posi[j]:\n",
    "                    gril[i] = values[j]\n",
    "    return gril\n",
    "\n",
    "gril_val = p_to_v(gril, values, posi)"
   ]
  },
  {
   "cell_type": "code",
   "execution_count": null,
   "id": "2264be00-4dcc-45e7-87fe-1d3d419aeaa5",
   "metadata": {
    "execution": {
     "iopub.status.busy": "2025-06-10T08:33:55.192397Z",
     "iopub.status.idle": "2025-06-10T08:33:55.192556Z",
     "shell.execute_reply": "2025-06-10T08:33:55.192481Z",
     "shell.execute_reply.started": "2025-06-10T08:33:55.192473Z"
    }
   },
   "outputs": [],
   "source": [
    "gril_final = gril_val.copy()\n",
    "X = 0\n",
    "for i in range(1, gril_final.size):\n",
    "    if gril_final[i] != 0 and gril_final[i-1] ==0:\n",
    "        Y = i\n",
    "        for j in range(X, Y):\n",
    "            gril_final[j] = (gril_final[X]+gril_final[Y])/2\n",
    "        X = j"
   ]
  },
  {
   "cell_type": "code",
   "execution_count": null,
   "id": "a9e22852-dcf0-44fa-a693-aae5a45f867f",
   "metadata": {
    "execution": {
     "iopub.status.busy": "2025-06-10T08:33:55.193033Z",
     "iopub.status.idle": "2025-06-10T08:33:55.193199Z",
     "shell.execute_reply": "2025-06-10T08:33:55.193117Z",
     "shell.execute_reply.started": "2025-06-10T08:33:55.193109Z"
    }
   },
   "outputs": [],
   "source": [
    "x = np.linspace(0, pm, gril_final.size)\n",
    "fig, ax = plt.subplots(figsize=(14, 4))\n",
    "\n",
    "ax.scatter(x, gril_final, marker='.', s=5)\n",
    "\n",
    "ax.set_title(f\"beam/main domain for {gril_final.size} points instead of {test[1][0].size}\")"
   ]
  },
  {
   "cell_type": "code",
   "execution_count": null,
   "id": "4bd73a69-f019-4dd1-8433-d3f4c7986e0e",
   "metadata": {
    "execution": {
     "iopub.status.busy": "2025-06-10T08:33:55.193653Z",
     "iopub.status.idle": "2025-06-10T08:33:55.193816Z",
     "shell.execute_reply": "2025-06-10T08:33:55.193734Z",
     "shell.execute_reply.started": "2025-06-10T08:33:55.193726Z"
    }
   },
   "outputs": [],
   "source": [
    "tf = np.absolute(np.fft.fft(gril_final))"
   ]
  },
  {
   "cell_type": "code",
   "execution_count": null,
   "id": "836db936-82f4-42b6-a6a3-3578a52b55b0",
   "metadata": {
    "execution": {
     "iopub.status.busy": "2025-06-10T08:33:55.194298Z",
     "iopub.status.idle": "2025-06-10T08:33:55.194642Z",
     "shell.execute_reply": "2025-06-10T08:33:55.194383Z",
     "shell.execute_reply.started": "2025-06-10T08:33:55.194375Z"
    }
   },
   "outputs": [],
   "source": [
    "fig, ax = plt.subplots(figsize=(14, 4))\n",
    "\n",
    "ax.plot(x,  tf)\n",
    "ax.set_ylim(-100, 5000)\n",
    "ax.set_title(f\"beam/main domain for {gril_final.size} points instead of {test[1][0].size} : TF\")"
   ]
  },
  {
   "cell_type": "code",
   "execution_count": null,
   "id": "f2bb5708-9bea-4efb-960d-02e6c1bcdde4",
   "metadata": {
    "execution": {
     "iopub.status.busy": "2025-06-10T08:33:55.195127Z",
     "iopub.status.idle": "2025-06-10T08:33:55.195287Z",
     "shell.execute_reply": "2025-06-10T08:33:55.195213Z",
     "shell.execute_reply.started": "2025-06-10T08:33:55.195205Z"
    }
   },
   "outputs": [],
   "source": [
    "def gamma(run_path, i):\n",
    "    file = os.path.join(run_path, \"EM_B.h5\")\n",
    "    times = fromh5.get_times_from_h5(file)\n",
    "    dt = times[1] - times[0]\n",
    "    r = Run(run_path)\n",
    "    first_mode = np.array([])\n",
    "\n",
    "    for time in times:\n",
    "        B_hier = r.GetB(time, merged=True, interp=\"linear\")\n",
    "\n",
    "        by_interpolator, xyz_finest = B_hier[\"By\"]\n",
    "        bz_interpolator, xyz_finest = B_hier[\"Bz\"]\n",
    "        \n",
    "        \n",
    "        x = xyz_finest[0][:-1]\n",
    "\n",
    "        by = by_interpolator(x)\n",
    "        bz = bz_interpolator(x)\n",
    "\n",
    "        mode1 = np.absolute(np.fft.fft(by - 1j * bz)[i+1])\n",
    "        first_mode = np.append(first_mode, mode1)\n",
    "\n",
    "    tmax = np.argmax(first_mode)\n",
    "    xmax = first_mode[tmax]\n",
    "\n",
    "    first_mode = first_mode[:tmax]\n",
    "    times = times[:tmax]\n",
    "\n",
    "    popt, pcov = curve_fit(yaebx, times[: tmax], first_mode, p0=[0.08, 0.09])\n",
    "    a, b = popt\n",
    "    \n",
    "    return a, b, times"
   ]
  },
  {
   "cell_type": "code",
   "execution_count": null,
   "id": "bf26a26f-3000-4da5-9a9d-9766f574ccef",
   "metadata": {
    "execution": {
     "iopub.status.busy": "2025-06-10T08:33:55.195761Z",
     "iopub.status.idle": "2025-06-10T08:33:55.195924Z",
     "shell.execute_reply": "2025-06-10T08:33:55.195849Z",
     "shell.execute_reply.started": "2025-06-10T08:33:55.195841Z"
    }
   },
   "outputs": [],
   "source": [
    "amplitude = []\n",
    "g = []\n",
    "time_shape = []\n",
    "for i in range(15):\n",
    "    a, b, times = gamma(path, i)\n",
    "    amplitude.append(a)\n",
    "    g.append(b)\n",
    "    time_shape.append(len(times))\n",
    "k = np.arange(1, 16, 1)"
   ]
  },
  {
   "cell_type": "code",
   "execution_count": null,
   "id": "f9cf00c8-534f-4aec-8e4b-f360ba545684",
   "metadata": {
    "execution": {
     "iopub.status.busy": "2025-06-10T08:33:55.196438Z",
     "iopub.status.idle": "2025-06-10T08:33:55.196743Z",
     "shell.execute_reply": "2025-06-10T08:33:55.196522Z",
     "shell.execute_reply.started": "2025-06-10T08:33:55.196514Z"
    }
   },
   "outputs": [],
   "source": [
    "fig, ax1 = plt.subplots(1, 1, figsize=(6, 4), constrained_layout=True)\n",
    "\n",
    "ax1.plot(k,amplitude,color=\"r\",linestyle=\"-\",label=\"amplitude\")\n",
    "ax1.plot(k,g, color='b', linestyle='dotted', label=\"gamma\")\n",
    "ax1.legend()"
   ]
  },
  {
   "cell_type": "code",
   "execution_count": null,
   "id": "93c64b87-8fa5-451f-8316-0043e18898ba",
   "metadata": {
    "execution": {
     "iopub.status.busy": "2025-06-10T08:33:55.197334Z",
     "iopub.status.idle": "2025-06-10T08:33:55.197490Z",
     "shell.execute_reply": "2025-06-10T08:33:55.197415Z",
     "shell.execute_reply.started": "2025-06-10T08:33:55.197408Z"
    }
   },
   "outputs": [],
   "source": [
    "def get_peaks(x,Vs):\n",
    "    nt = Vs.shape[1]\n",
    "    positions  = np.zeros((nt,2))\n",
    "    amplitudes = np.zeros((nt,2))\n",
    "    for it in range(nt):\n",
    "        ps = find_peaks(Vs[:,it])\n",
    "        if (len(ps[0])==1):\n",
    "            positions[it,0] = x[ps[0]]\n",
    "            positions[it,1] = x[ps[0]]\n",
    "            amplitudes[it,0]  = Vs[ps[0][0], it]\n",
    "            amplitudes[it,1]  = Vs[ps[0][0],it]\n",
    "        else:\n",
    "            positions[it,0]  = x[ps[0][0]]\n",
    "            positions[it,1]  = x[ps[0][1]]\n",
    "            amplitudes[it,0]  = Vs[ps[0][0], it]\n",
    "            amplitudes[it,1]  = Vs[ps[0][1],it]\n",
    "    return positions, amplitudes\n",
    "def profiles(times, x, Vs, positions, temperature):\n",
    "    fig, ax = plt.subplots()\n",
    "    for it,t in enumerate(times):\n",
    "        ax.plot(x, Vs[:,it], label=r\"t={:6.4f}\".format(t))\n",
    "    ax.set_title(\"T = {:6.4f}\".format(temperature))\n",
    "    ax.legend()\n",
    "def damping(times, amplitudes, **kw):\n",
    "    fig,ax = plt.subplots()\n",
    "    ax.plot(times,amplitudes[:,0], marker=\"o\", color=\"r\", ls=\"None\")\n",
    "    ax.plot(times,amplitudes[:,1], marker=\"o\", color=\"b\", ls=\"None\")"
   ]
  },
  {
   "cell_type": "code",
   "execution_count": null,
   "id": "b9be8240-9546-44f3-9f78-977e9654eee5",
   "metadata": {
    "execution": {
     "iopub.status.busy": "2025-06-10T08:33:55.198032Z",
     "iopub.status.idle": "2025-06-10T08:33:55.198189Z",
     "shell.execute_reply": "2025-06-10T08:33:55.198114Z",
     "shell.execute_reply.started": "2025-06-10T08:33:55.198106Z"
    }
   },
   "outputs": [],
   "source": [
    "def get_omega(mode, times, time_offset):\n",
    "    omegas = np.fabs(np.fft.fft(mode).real)\n",
    "    ioffset = int(time_offset/(times[0]-times[1]))\n",
    "    imax = find_peaks(first_mode, width=ioffset)[0][0]\n",
    "    omega = (\n",
    "        0.5\n",
    "        * (omegas[1 : omegas.size // 2].argmax() + 1)\n",
    "        * 2\n",
    "        * np.pi\n",
    "        / times[imax-1-ioffset]\n",
    "    )\n",
    "    return omega    "
   ]
  },
  {
   "cell_type": "code",
   "execution_count": null,
   "id": "40a2d549-4fe2-41da-b45e-6f137a5860f8",
   "metadata": {},
   "outputs": [],
   "source": []
  },
  {
   "cell_type": "code",
   "execution_count": null,
   "id": "9ac08f25-f5c9-45ae-bb68-39ac5ed69121",
   "metadata": {},
   "outputs": [],
   "source": []
  },
  {
   "cell_type": "code",
   "execution_count": null,
   "id": "878137fb-fd81-4458-b27f-5b266fc9bc71",
   "metadata": {},
   "outputs": [],
   "source": []
  },
  {
   "cell_type": "code",
   "execution_count": null,
   "id": "0293ad42-1501-4d5e-b5e6-eeec18450bab",
   "metadata": {},
   "outputs": [],
   "source": []
  }
 ],
 "metadata": {
  "kernelspec": {
   "display_name": "hpc/python3",
   "language": "python",
   "name": "conda-env-hpc-py"
  },
  "language_info": {
   "codemirror_mode": {
    "name": "ipython",
    "version": 3
   },
   "file_extension": ".py",
   "mimetype": "text/x-python",
   "name": "python",
   "nbconvert_exporter": "python",
   "pygments_lexer": "ipython3",
   "version": "3.10.16"
  }
 },
 "nbformat": 4,
 "nbformat_minor": 5
}
